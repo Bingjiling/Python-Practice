{
 "cells": [
  {
   "cell_type": "markdown",
   "metadata": {},
   "source": [
    "# Max Flow Applications\n",
    "\n",
    "The purpose of this assignment is to investigate applications of finding a Max Flow. The problem asks you to design and implement an algorithm for shipping a material between nodes with different supply and demand requirements."
   ]
  },
  {
   "cell_type": "markdown",
   "metadata": {},
   "source": [
    "## Movie distribution\n",
    "\n",
    "First solve Problem 3 from HW3-theoretical. \n",
    "\n",
    "Now suppose a movie distributor would like to ship a copy of a film from CA to every other state. There are therefore 48 units to ship out of CA, and each other state receives 1 unit. \n",
    "\n",
    "The dataset contiguous-usa.dat lists the adjacent states in the US. Each line lists two adjacent states; thus AK and HI are omitted, but DC is included in the data. The following code reads in the graph of US states."
   ]
  },
  {
   "cell_type": "code",
   "execution_count": 220,
   "metadata": {
    "collapsed": false
   },
   "outputs": [],
   "source": [
    "import networkx as nx\n",
    "G = nx.Graph()\n",
    "usa = open('contiguous-usa.dat')\n",
    "for line in usa:\n",
    "    s1, s2 = line.strip().split()\n",
    "    G.add_edge(s1, s2)"
   ]
  },
  {
   "cell_type": "markdown",
   "metadata": {
    "collapsed": false
   },
   "source": [
    "We now encode the demands into the graph."
   ]
  },
  {
   "cell_type": "code",
   "execution_count": 221,
   "metadata": {
    "collapsed": false
   },
   "outputs": [],
   "source": [
    "for state in G.nodes():\n",
    "    if state != 'CA':\n",
    "        G.node[state]['demand'] = 1\n",
    "G.node['CA']['demand'] = -48"
   ]
  },
  {
   "cell_type": "markdown",
   "metadata": {
    "collapsed": false
   },
   "source": [
    "We will assign a uniform capacity of 16 to each edge. Since CA has only three adjacent states, this is the smallest possible uniform capacity that allows one to ship all 48 units out of CA. As we have created an undirected graph, and flows have directions, we first convert the graph to a directed graph."
   ]
  },
  {
   "cell_type": "code",
   "execution_count": 222,
   "metadata": {
    "collapsed": false
   },
   "outputs": [],
   "source": [
    "G = nx.DiGraph(G)\n",
    "uniform_capacity = 16\n",
    "for (s1, s2) in G.edges():\n",
    "    G.edge[s1][s2]['capacity'] = uniform_capacity"
   ]
  },
  {
   "cell_type": "markdown",
   "metadata": {},
   "source": [
    "Complete the following function to implement your algorithm to find a flow with demands. Your function should work correctly for any input, not just the movie instance considered here. As always, you are encouraged to define auxiliary functions as needed for clarity."
   ]
  },
  {
   "cell_type": "code",
   "execution_count": 223,
   "metadata": {
    "collapsed": false
   },
   "outputs": [],
   "source": [
    "def preprocess(graph):\n",
    "    \"\"\"Plug in source and sink to make the graph suitable for max flow set\n",
    "    up\n",
    "    \"\"\"\n",
    "    graph.add_node('source')\n",
    "    graph.add_node('sink')\n",
    "    graph.node['source']['demand'] = 0\n",
    "    graph.node['sink']['demand'] = 0\n",
    "    for key in graph.node:\n",
    "        if graph.node[key]['demand'] > 0:\n",
    "            graph.add_edge(key,'sink')\n",
    "            graph.edge[key]['sink']['capacity'] = graph.node[key]['demand']\n",
    "        elif graph.node[key]['demand'] < 0:\n",
    "            graph.add_edge('source',key) \n",
    "            graph.edge['source'][key]['capacity'] = - graph.node[key]['demand']\n",
    "    return graph"
   ]
  },
  {
   "cell_type": "code",
   "execution_count": 224,
   "metadata": {
    "collapsed": true
   },
   "outputs": [],
   "source": [
    "def zero_flow(graph):\n",
    "    flow = {}\n",
    "    for state in graph.nodes():\n",
    "        flow[state] = {}\n",
    "    for (s1,s2) in graph.edges():\n",
    "        flow[s1][s2] = 0\n",
    "    return flow"
   ]
  },
  {
   "cell_type": "code",
   "execution_count": 225,
   "metadata": {
    "collapsed": false
   },
   "outputs": [],
   "source": [
    "def s_t_path(graph):\n",
    "    # TODO: implement function\n",
    "    visited = []\n",
    "    stack = ['source',]\n",
    "    parent = {}\n",
    "    while 'sink' not in stack and stack:\n",
    "    # pop the component into stack\n",
    "        state = stack.pop()\n",
    "        if state not in visited:\n",
    "    # Append the just visited node to the visited node\n",
    "            visited.append(state)  \n",
    "            visitedSet = set(visited)\n",
    "            children = set(graph.neighbors(state))-set(visited)\n",
    "    #Keep track of the parent\n",
    "        for child in children:\n",
    "            parent[child] = state\n",
    "    # extend the stack with the new edges discovered\n",
    "            stack.extend(children)\n",
    "    flow = []\n",
    "    if 'sink' not in parent:\n",
    "        flow.append(0)\n",
    "        return flow\n",
    "    state = 'sink'\n",
    "    cap = graph.edge[parent['sink']]['sink']['capacity']\n",
    "    while state != 'source':\n",
    "        flow.insert(0,state)\n",
    "        if graph.edge[parent['sink']]['sink']['capacity'] < cap:\n",
    "            cap = graph.edge[parent['sink']]['sink']['capacity']\n",
    "        state = parent[state]\n",
    "    flow.insert(0,state)\n",
    "    flow.append(cap)\n",
    "    return flow"
   ]
  },
  {
   "cell_type": "code",
   "execution_count": 226,
   "metadata": {
    "collapsed": false
   },
   "outputs": [],
   "source": [
    "def add_flow(flow, flow_temp):\n",
    "    cap = flow_temp[-1]\n",
    "    for i in range(0,len(flow_temp)-2):\n",
    "        flow[flow_temp[i]][flow_temp[i+1]] += cap\n",
    "    return"
   ]
  },
  {
   "cell_type": "code",
   "execution_count": 227,
   "metadata": {
    "collapsed": false
   },
   "outputs": [],
   "source": [
    "def residule(graph, flow):\n",
    "    cap = flow[-1]\n",
    "    for i in range(0,len(flow)-2):\n",
    "        graph.edge[flow[i]][flow[i+1]]['capacity'] -= cap\n",
    "        if graph.edge[flow[i]][flow[i+1]]['capacity'] <= 0:\n",
    "            graph.remove_edge(flow[i], flow[i+1])\n",
    "        if (flow[i+1],flow[i]) not in graph.edges():\n",
    "            graph.add_edge(flow[i+1],flow[i])\n",
    "            graph.edge[flow[i+1]][flow[i]]['capacity'] = 0\n",
    "        graph.edge[flow[i+1]][flow[i]]['capacity'] += cap\n",
    "    return   "
   ]
  },
  {
   "cell_type": "code",
   "execution_count": 228,
   "metadata": {
    "collapsed": true
   },
   "outputs": [],
   "source": [
    "def process(flow , graph):\n",
    "    del flow['source']\n",
    "    del flow['sink']\n",
    "    for key_out in flow:\n",
    "        if 'sink' in flow[key_out]:\n",
    "            del flow[key_out]['sink']\n",
    "        if 'source' in flow[key_out]:\n",
    "            del flow[key_out]['source']\n",
    "        for key_in in flow[key_out]:\n",
    "            if flow[key_out][key_in] > graph.edge[key_out][key_in]['capacity']:\n",
    "                flow[key_out][key_in] -= flow[key_in][key_out]\n",
    "                flow[key_in][key_out] = 0\n",
    "    return flow      \n",
    "        "
   ]
  },
  {
   "cell_type": "code",
   "execution_count": 229,
   "metadata": {
    "collapsed": false
   },
   "outputs": [],
   "source": [
    "def flow_with_demands(graph):\n",
    "    \"\"\"Computes a flow with demands over the given graph.\n",
    "    \n",
    "    Args:\n",
    "        graph: A directed graph with nodes annotated with 'demand' \n",
    "        properties and edges annotated with 'capacity' \n",
    "        properties.\n",
    "        \n",
    "    Returns:\n",
    "        A dict of dicts containing the flow on each edge. For instance, \n",
    "        flow[s1][s2] should provide the flow along edge (s1, s2).\n",
    "        \n",
    "    Raises:\n",
    "        NetworkXUnfeasible: An error is thrown if there is no flow \n",
    "        satisfying the demands.\n",
    "    \"\"\"\n",
    "    # TODO: Implement the function.\n",
    "    # Check the condition\n",
    "    i = 0\n",
    "    for key in graph.node:\n",
    "        i += graph.node[key]['demand']\n",
    "    if (i != 0):\n",
    "        raise nx.NetworkXUnfeasible()\n",
    "    # Makes it a max flow problem\n",
    "    graph_copy = graph.copy()\n",
    "    graph_copy = preprocess(graph_copy)\n",
    "    residule_graph = graph_copy.copy()\n",
    "    # Initialize a zero flow\n",
    "    flow = zero_flow(graph_copy)\n",
    "    # find a s-t path\n",
    "    flow_temp = s_t_path(graph_copy)\n",
    "    # Update residule graph and \n",
    "    while flow_temp[-1] != 0:\n",
    "        residule(residule_graph, flow_temp)\n",
    "        add_flow(flow,flow_temp)\n",
    "#         print residule_graph.edge['IN']['OH']['capacity']\n",
    "#         print residule_graph.edge['OH']['IN']['capacity']\n",
    "        flow_temp = s_t_path(residule_graph)\n",
    "    for key in flow['source']:\n",
    "        if flow['source'][key] != -graph_copy.node[key]['demand']:\n",
    "            raise nx.NetworkXUnfeasible() \n",
    "    process(flow, graph)\n",
    "    return flow    "
   ]
  },
  {
   "cell_type": "markdown",
   "metadata": {},
   "source": [
    "To verify that your solution is correct, implement a function that computes the total flow into each node (which will be negative for supply nodes)."
   ]
  },
  {
   "cell_type": "code",
   "execution_count": 230,
   "metadata": {
    "collapsed": true
   },
   "outputs": [],
   "source": [
    "def divergence(flow):\n",
    "    \"\"\"Computes the total flow into each node according to the given flow dict.\n",
    "    \n",
    "    Args:\n",
    "        flow: the flow dict recording flow between nodes.\n",
    "        \n",
    "    Returns:\n",
    "        A dict of the net flow into each node.\n",
    "    \"\"\"\n",
    "    # TODO: Implement the function.\n",
    "    output = {}\n",
    "    for key_out in flow:\n",
    "        output[key_out] = 0\n",
    "    for key_out in flow:\n",
    "        for key_in, value in flow[key_out].iteritems():\n",
    "            output[key_out] -= value\n",
    "            output[key_in] += value\n",
    "    return output"
   ]
  },
  {
   "cell_type": "markdown",
   "metadata": {},
   "source": [
    "The following code performs a sanity check on your function (but does not completely confirm correctness)."
   ]
  },
  {
   "cell_type": "code",
   "execution_count": 231,
   "metadata": {
    "collapsed": false,
    "scrolled": true
   },
   "outputs": [
    {
     "name": "stdout",
     "output_type": "stream",
     "text": [
      "Flow satisfies all demands: True\n"
     ]
    }
   ],
   "source": [
    "flow = flow_with_demands(G)\n",
    "div = divergence(flow)\n",
    "print \"Flow satisfies all demands:\", all(div[n] == G.node[n]['demand'] for n in G.nodes())"
   ]
  },
  {
   "cell_type": "code",
   "execution_count": null,
   "metadata": {
    "collapsed": true
   },
   "outputs": [],
   "source": []
  },
  {
   "cell_type": "code",
   "execution_count": null,
   "metadata": {
    "collapsed": true
   },
   "outputs": [],
   "source": []
  }
 ],
 "metadata": {
  "kernelspec": {
   "display_name": "Python 2",
   "language": "python",
   "name": "python2"
  },
  "language_info": {
   "codemirror_mode": {
    "name": "ipython",
    "version": 2
   },
   "file_extension": ".py",
   "mimetype": "text/x-python",
   "name": "python",
   "nbconvert_exporter": "python",
   "pygments_lexer": "ipython2",
   "version": "2.7.10"
  }
 },
 "nbformat": 4,
 "nbformat_minor": 0
}
