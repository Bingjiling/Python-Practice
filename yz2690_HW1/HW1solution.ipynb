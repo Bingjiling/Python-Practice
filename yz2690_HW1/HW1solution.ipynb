{
 "cells": [
  {
   "cell_type": "code",
   "execution_count": 2,
   "metadata": {
    "collapsed": false
   },
   "outputs": [],
   "source": [
    "import urllib2\n",
    "homer = urllib2.urlopen('http://people.sc.fsu.edu/~jburkardt/datasets/sgb/homer.dat')"
   ]
  },
  {
   "cell_type": "markdown",
   "metadata": {},
   "source": [
    "# Connected Components\n",
    "\n",
    "The purpose of this assignment is to familiarize yourself with the handling of graph data structures. You will implement the algorithm for identifying the connected components of an undirected graph, implementing depth-first-search as a subroutine along the way.\n",
    "\n",
    "You will use the [NetworkX](https://networkx.github.io/) Python package to represent and manipulate graphs. You should first familiarize yourself with its functionality by going through the brief [tutorial](http://networkx.github.io/documentation/networkx-1.9.1/tutorial/index.html). For this homework, you may only use the basic undirected graph methods listed [here](http://networkx.github.io/documentation/networkx-1.9.1/reference/classes.graph.html).\n",
    "\n",
    "As a use case, we will work with a dataset recording the interactions between characters in Homer's *Iliad*."
   ]
  },
  {
   "cell_type": "markdown",
   "metadata": {},
   "source": [
    "The format of the data is straightforward. After some comment lines (beginning with \\*), the file lists a codename for each character (i.e., node of the graph), followed by a description. The file then lists the groups of characters that interact in each chapter, from which you will form the edges. For instance, the first line has the form:\n",
    "\n",
    "```1:CH,AG,ME,GS;AP,CH;HE,AC;AC,AG,CA;HE,AT;AT,AC;AT,OG;NE,AG,AC;CS,OD```\n",
    "\n",
    "This means that CH,AG,ME,GS interacted, so there are edges for all pairs of these nodes. Groups of characters that interacted are separated by semicolons. The lines start with chapter information of the form `1:` or `&:`, which can be ignored for this problem."
   ]
  },
  {
   "cell_type": "markdown",
   "metadata": {},
   "source": [
    "First implement a function to read in the nodes from the input file. You may implement any auxiliary functions as needed, and are encouraged to use small functions with specific purposes to keep your code readable. Any function you implement should be clearly commented."
   ]
  },
  {
   "cell_type": "code",
   "execution_count": 3,
   "metadata": {
    "collapsed": false
   },
   "outputs": [],
   "source": [
    "def read_nodes(gfile):\n",
    "    \"\"\"Reads in the nodes of the graph from the input file.\n",
    "    \n",
    "    Args:\n",
    "        gfile: A handle for the file containing the graph data, starting at the top.\n",
    "        \n",
    "    Returns:\n",
    "        A generator of the nodes in the graph, yielding a list of the form:\n",
    "            ['CH', 'AG, 'ME', ...]\n",
    "         \"\"\"\n",
    "    # TODO: implement function\n",
    "    nodeList = []\n",
    "    for line in homer:\n",
    "    # Split the line by a whitespace\n",
    "        temp = line.split(' ')[0]\n",
    "        if temp == \"\\n\":\n",
    "            break\n",
    "        if temp != \"*\":\n",
    "    # Append the node just read in to nodeList\n",
    "            nodeList.append(line.split(' ')[0])\n",
    "    return nodeList\n",
    "    "
   ]
  },
  {
   "cell_type": "markdown",
   "metadata": {},
   "source": [
    "Next implement a function to read in the edges from the input file."
   ]
  },
  {
   "cell_type": "code",
   "execution_count": 4,
   "metadata": {
    "collapsed": false
   },
   "outputs": [],
   "source": [
    "def read_edges(gfile):\n",
    "    \"\"\"Reads in the edges of the graph from the input file.\n",
    "    \n",
    "    Args:\n",
    "        gfile: A handle for the file containing the graph data, starting at the top \n",
    "            of the edges section.\n",
    "            \n",
    "    Returns:\n",
    "        A generator of the edges in the graph, yielding a list of pairs of the form:\n",
    "            [('CH', 'AG'), ('AG', 'ME'), ...]\n",
    "    \"\"\"\n",
    "    # TODO: implement function\n",
    "    edgeList = []\n",
    "    for line in homer:\n",
    "    # Split the line by a ':'\n",
    "        temp = line.split(':')\n",
    "        if len(temp) > 1:\n",
    "            temp = temp[1]\n",
    "    # Strip the \\n and white space\n",
    "            temp = temp.rstrip()\n",
    "            temp = temp.split(';')\n",
    "            for str in temp:\n",
    "                tempTwo = str.split(',')\n",
    "    # Build the pairs without repeat\n",
    "                tempTwo = [(x,y) for x in tempTwo for y in tempTwo if x>y]\n",
    "                edgeList = list(set(edgeList)|set(tempTwo))             \n",
    "    return edgeList"
   ]
  },
  {
   "cell_type": "markdown",
   "metadata": {},
   "source": [
    "The following code should now correctly create the graph."
   ]
  },
  {
   "cell_type": "code",
   "execution_count": 5,
   "metadata": {
    "collapsed": false,
    "scrolled": false
   },
   "outputs": [
    {
     "name": "stdout",
     "output_type": "stream",
     "text": [
      "['G2', 'G1', 'G0', 'GS', 'GR', 'GL', '3Z', '3Y', '3X', '3S', '3R', '3Q', '3P', '3W', '3V', '3U', '3T', '3K', '3J', '3I', '3H', '3O', '3N', '3M', '3L', '3C', '3B', '3A', '3G', '3F', '3E', '3D', 'Z0', 'Z1', 'ZE', 'ZF', 'ME', 'MG', '38', 'MC', '33', '32', '31', '30', '37', '36', '35', '34', 'MU', 'MT', 'SE', 'MR', 'FY', 'S1', 'S0', 'FD', '9I', '9H', '9K', '9J', '9M', '9L', '9O', '9N', '9A', '9C', '9B', '9E', '9D', '9G', '9F', '9Y', '9X', '9Z', '9Q', '9P', '9S', '9R', '9U', '9T', '9W', '9V', '99', '98', '91', '90', '93', '92', '95', '94', '97', '96', 'F0', 'F1', 'F2', 'SP', 'ST', 'SI', 'SL', 'SA', 'SF', '0U', 'LE', 'LA', 'LT', 'LY', '7K', 'L2', 'L0', 'L1', 'Y1', 'Y0', 'M2', '24', 'RU', '26', '27', '20', '21', '22', '23', '28', '29', 'RA', 'RO', 'RH', '2T', '2U', '2V', '2W', 'R0', '2Q', '2R', '2S', '2X', '2Y', '2Z', '2D', '2E', '2F', '2G', '2A', '2B', '2C', '2L', '2M', '2N', '2O', '2H', '2I', '2J', '2K', 'K1', '1B', '88', '89', '82', '83', '80', '81', '86', '87', '84', '85', 'E1', 'E0', 'E2', 'EM', 'EO', 'EN', 'EE', 'EF', 'EA', 'EB', 'EU', 'EP', 'ER', '8J', '8K', '8H', '8I', '8N', '8O', '8L', '8M', '8B', '8C', '8A', '8F', '8G', '8D', '8E', '8Z', '8X', '8Y', '8R', '8P', '8Q', '8V', '8W', '8T', '8U', '1Q', '1P', '1S', '1R', '1U', '1T', '1W', '1V', '1Y', '1X', '1Z', '1A', 'K2', '1C', 'K0', '1E', '1D', '1G', '1F', '1I', '1H', '1K', '1J', '1M', '1L', '1O', '1N', 'X2', 'X0', 'X1', 'XB', 'XA', '11', '10', '13', '12', '15', '14', '17', '16', '19', '18', 'M1', 'M0', 'DN', 'Q0', 'DM', 'DI', 'DE', 'DT', 'DP', '7G', '7F', '7E', '7D', '7C', '7B', '7A', '7O', '7N', '7M', '7L', 'T2', '7J', '7I', '7H', '7W', '7V', '7U', '7T', '7S', '7R', '7Q', '7P', '7Z', '7Y', '7X', '02', '03', '77', '76', '75', '74', '73', '72', '71', '70', '79', '78', '04', '05', '4Z', '08', 'D0', 'D1', 'T1', 'WI', '5U', '5T', '5V', '5R', 'J0', 'J1', 'J2', 'W2', 'W1', 'W0', 'P2', '5K', '0P', 'P1', 'PR', 'PS', 'PP', '01', '06', '07', 'PT', 'PU', 'PX', '09', 'PB', 'PC', 'PA', '5C', 'PD', 'PE', 'PH', '5B', 'PN', 'PO', 'PL', '0R', '0S', 'P0', '0Q', '0V', '0W', '0T', '25', '0Z', '0X', '0Y', '0B', '0C', '0A', '0F', '0G', '0D', '0E', '0J', '0K', '0H', '0I', '0N', '0O', '0L', '0M', 'Q1', '60', '61', '62', 'Q2', '64', '65', '66', '67', '68', '69', 'C2', 'C1', 'C0', 'CI', 'CH', 'CN', 'CM', 'CL', 'CA', '39', 'CS', 'CR', 'CT', '6A', '6B', '6C', '6D', '6E', '6F', '6G', '6H', '6I', '6J', '6K', '6L', '6M', '6N', '6O', '6P', '6Q', '6R', '6S', '6T', '6U', '6V', '6W', '6X', '6Y', '6Z', 'MO', '2P', 'R1', 'R2', 'I1', 'I0', 'I2', 'V0', 'V1', 'V2', 'IR', 'IA', 'ID', 'TY', 'TT', 'TU', '5Y', '5X', '5Z', 'BL', 'TR', '5W', 'BO', '5Q', '5P', '5S', 'TS', '5M', '5L', '5O', '5N', '5I', '5H', 'BR', '5J', '5E', '5D', '5G', '5F', '5A', 'O2', 'O1', 'O0', 'A2', 'S2', '59', '58', 'OG', '54', '57', 'OD', 'OC', '53', '52', '55', '63', 'B0', 'B1', 'B2', 'OT', '56', 'HR', '51', 'HP', 'U1', 'U0', 'HT', 'U2', 'HN', 'HO', 'HL', 'HM', 'HB', 'HC', 'HA', 'HD', 'HE', 'AG', 'AF', 'AI', 'AH', '4U', 'AM', 'AL', '4P', '4Q', 'AP', 'H2', 'H0', 'H1', 'AS', 'AR', 'AU', 'AT', 'AX', 'NI', 'NO', 'NE', 'NR', 'N0', 'N1', 'N2', '48', '49', '46', '47', '44', '45', '42', '43', '40', '41', 'A1', 'A0', 'TL', 'TM', 'TH', 'TI', 'TE', 'TA', 'AA', 'AC', 'AB', 'AE', 'AD', '4X', '4Y', '4V', '4W', '4T', 'AJ', '4R', '4S', 'T0', 'AN', '4N', '4O', '4L', '4M', '4J', '4K', '4H', '4I', '4F', '4G', 'AZ', '4B', '4C', '4A', 'AO', 'D2']\n"
     ]
    }
   ],
   "source": [
    "import networkx as nx\n",
    "G = nx.Graph()\n",
    "G.add_nodes_from(read_nodes(homer))\n",
    "G.add_edges_from(read_edges(homer))\n",
    "print G.nodes()"
   ]
  },
  {
   "cell_type": "markdown",
   "metadata": {},
   "source": [
    "Next implement depth-first search (DFS). The function takes in a graph and a root node, and returns a list of the nodes visited during the search. The nodes should appear in the order in which they were *first visited*. The neighbors of a node should be processed in *alphabetical order*, where numbers come before letters. This will ensure that the output of your function is uniquely defined, given any input node."
   ]
  },
  {
   "cell_type": "code",
   "execution_count": 6,
   "metadata": {
    "collapsed": false
   },
   "outputs": [],
   "source": [
    "def DFS(graph, root):\n",
    "    \"\"\"Runs depth-first search through a graph, starting at a given root. Neighboring\n",
    "    nodes are processed in alphabetical order.\n",
    "    \n",
    "    Args:\n",
    "        graph: the given graph, with nodes encoded as strings.\n",
    "        root: the node from which to start the search.\n",
    "        \n",
    "    Returns:\n",
    "        A list of nodes in the order in which they were first visited.\n",
    "    \"\"\"\n",
    "    # TODO: implement function\n",
    "    visited = []\n",
    "    stack = [root,]\n",
    "    while stack:\n",
    "    # pop the component into stack\n",
    "        node = stack.pop()\n",
    "        if node not in visited:\n",
    "    # Append the just visited node to the visited node\n",
    "            visited.append(node)\n",
    "            visitedSet = set(visited)\n",
    "    # extend the stack with the new edges discovered\n",
    "            stack.extend(reversed(sorted(list(set(graph.neighbors(node))-set(visited)))))\n",
    "    return visited"
   ]
  },
  {
   "cell_type": "markdown",
   "metadata": {},
   "source": [
    "We will check the correctness of your code by verifying that it correctly computes the DFS tree starting at Ulysses (node `OD`)."
   ]
  },
  {
   "cell_type": "code",
   "execution_count": 7,
   "metadata": {
    "collapsed": false
   },
   "outputs": [],
   "source": [
    "ulysses = DFS(G, 'OD')\n",
    "# print ulysses"
   ]
  },
  {
   "cell_type": "markdown",
   "metadata": {},
   "source": [
    "Next implement a function that finds the connected components of the character graph. When choosing roots for your components, always pick the *smallest unvisited node* according to alphabetical ordering. Combined with your DFS routine, this will ensure that the output is again uniquely defined."
   ]
  },
  {
   "cell_type": "code",
   "execution_count": 8,
   "metadata": {
    "collapsed": true
   },
   "outputs": [],
   "source": [
    "def connected_components(graph):\n",
    "    \"\"\"Computes the connected components of the given graph.\n",
    "    \n",
    "    Args: \n",
    "        graph: the given graph, with nodes encoded as strings.\n",
    "        \n",
    "    Returns:\n",
    "        The connected components of the graph. Components are listed in\n",
    "        alphabetical order of their root nodes.\n",
    "    \"\"\"\n",
    "    # TODO: implement function\n",
    "    visited = []\n",
    "    output = []\n",
    "    while len(visited)-len(graph.nodes())!=0:\n",
    "    # find the node to be explored next\n",
    "        node = min(set(graph.nodes())-set(visited))\n",
    "    # Keep track of what's already been visited\n",
    "        visited.extend(list(DFS(graph,node))) \n",
    "    # Build the output\n",
    "        output.append(list(DFS(graph,node)))\n",
    "    return output\n",
    "    "
   ]
  },
  {
   "cell_type": "markdown",
   "metadata": {},
   "source": [
    "We will check correctness of your code by verifying that your output list is identical to our solution."
   ]
  },
  {
   "cell_type": "code",
   "execution_count": 9,
   "metadata": {
    "collapsed": false
   },
   "outputs": [],
   "source": [
    "character_interactions = connected_components(G)\n",
    "# print character_interactions"
   ]
  },
  {
   "cell_type": "code",
   "execution_count": null,
   "metadata": {
    "collapsed": true
   },
   "outputs": [],
   "source": []
  },
  {
   "cell_type": "markdown",
   "metadata": {},
   "source": [
    "As a preliminary check, you should find that the following statements are all true."
   ]
  },
  {
   "cell_type": "code",
   "execution_count": 10,
   "metadata": {
    "collapsed": false
   },
   "outputs": [
    {
     "name": "stdout",
     "output_type": "stream",
     "text": [
      "There are 12 connected components in the Iliad: True\n",
      "The giant component has size 542: True\n",
      "There are 5 isolated characters: True\n"
     ]
    }
   ],
   "source": [
    "component_sizes = [len(c) for c in character_interactions]\n",
    "print \"There are 12 connected components in the Iliad:\", len(component_sizes) == 12\n",
    "print \"The giant component has size 542:\", max(component_sizes) == 542\n",
    "print \"There are 5 isolated characters:\", len([c for c in component_sizes if c == 1]) == 5"
   ]
  }
 ],
 "metadata": {
  "kernelspec": {
   "display_name": "Python 2",
   "language": "python",
   "name": "python2"
  },
  "language_info": {
   "codemirror_mode": {
    "name": "ipython",
    "version": 2
   },
   "file_extension": ".py",
   "mimetype": "text/x-python",
   "name": "python",
   "nbconvert_exporter": "python",
   "pygments_lexer": "ipython2",
   "version": "2.7.10"
  }
 },
 "nbformat": 4,
 "nbformat_minor": 0
}
